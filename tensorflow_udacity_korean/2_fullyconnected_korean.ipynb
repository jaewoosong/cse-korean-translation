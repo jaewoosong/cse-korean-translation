{
 "cells": [
  {
   "cell_type": "markdown",
   "metadata": {
    "colab_type": "text",
    "id": "kR-4eNdK6lYS"
   },
   "source": [
    "딥 러닝 (심층 학습)\n",
    "===================\n",
    "\n",
    "과제 2\n",
    "------\n",
    "\n",
    "이전 과제 `1_notmnist_korean.ipynb`에서는 [notMNIST 데이터셋](http://yaroslavvb.blogspot.com/2011/09/notmnist-dataset.html)을 사용해서 정형화된 학습용, 개발용, 테스트용 데이터셋을 피클 형식으로 만들었습니다.\n",
    "\n",
    "이번 과제의 목적은 텐서플로우를 사용해서 모델을 점점 더 심도있고 정확하게 학습시키는 것입니다."
   ]
  },
  {
   "cell_type": "code",
   "execution_count": 1,
   "metadata": {
    "cellView": "both",
    "colab": {
     "autoexec": {
      "startup": false,
      "wait_interval": 0
     }
    },
    "colab_type": "code",
    "collapsed": false,
    "id": "JLpLa8Jt7Vu4"
   },
   "outputs": [
    {
     "name": "stdout",
     "output_type": "stream",
     "text": [
      "역자 주: 이 메시지가 보이면 잘 된 것입니다.\n"
     ]
    }
   ],
   "source": [
    "# 모두 앞으로 사용할 모듈들입니다.\n",
    "# 더 진행하기 전에, 모든 모듈을 불러올 수 있는지 확인하세요.\n",
    "from __future__ import print_function\n",
    "import numpy as np\n",
    "import tensorflow as tf\n",
    "from six.moves import cPickle as pickle\n",
    "from six.moves import range\n",
    "\n",
    "print('역자 주: 이 메시지가 보이면 잘 된 것입니다.')"
   ]
  },
  {
   "cell_type": "markdown",
   "metadata": {
    "colab_type": "text",
    "id": "1HrCK6e17WzV"
   },
   "source": [
    "먼저 `1_notmnist_korean.ipynb`에서 만든 데이터를 다시 불러옵시다."
   ]
  },
  {
   "cell_type": "code",
   "execution_count": 2,
   "metadata": {
    "cellView": "both",
    "colab": {
     "autoexec": {
      "startup": false,
      "wait_interval": 0
     },
     "output_extras": [
      {
       "item_id": 1
      }
     ]
    },
    "colab_type": "code",
    "collapsed": false,
    "executionInfo": {
     "elapsed": 19456,
     "status": "ok",
     "timestamp": 1449847956073,
     "user": {
      "color": "",
      "displayName": "",
      "isAnonymous": false,
      "isMe": true,
      "permissionId": "",
      "photoUrl": "",
      "sessionId": "0",
      "userId": ""
     },
     "user_tz": 480
    },
    "id": "y3-cj1bpmuxc",
    "outputId": "0ddb1607-1fc4-4ddb-de28-6c7ab7fb0c33"
   },
   "outputs": [
    {
     "name": "stdout",
     "output_type": "stream",
     "text": [
      "학습용 데이터 (200000, 28, 28) (200000,)\n",
      "검증용 데이터 (10000, 28, 28) (10000,)\n",
      "테스트용 데이터 (10000, 28, 28) (10000,)\n"
     ]
    }
   ],
   "source": [
    "pickle_file = 'notMNIST.pickle'\n",
    "\n",
    "with open(pickle_file, 'rb') as f:\n",
    "  save = pickle.load(f)\n",
    "  train_dataset = save['train_dataset']\n",
    "  train_labels = save['train_labels']\n",
    "  valid_dataset = save['valid_dataset']\n",
    "  valid_labels = save['valid_labels']\n",
    "  test_dataset = save['test_dataset']\n",
    "  test_labels = save['test_labels']\n",
    "  del save  # 쓰레기 수집기에게 메모리를 해제하라고 알려줍니다.\n",
    "  print('학습용 데이터', train_dataset.shape, train_labels.shape)\n",
    "  print('검증용 데이터', valid_dataset.shape, valid_labels.shape)\n",
    "  print('테스트용 데이터', test_dataset.shape, test_labels.shape)"
   ]
  },
  {
   "cell_type": "markdown",
   "metadata": {
    "colab_type": "text",
    "id": "L7aHrm6nGDMB"
   },
   "source": [
    "데이터셋을 앞으로 우리가 학습시킬 모델에 더욱 적합한 형태로 변형합시다.\n",
    "- 데이터는 평면 행렬로 변환합니다. (역자 주: 2차원 행렬을 말하는 것 같습니다.)\n",
    "- 라벨은 원 핫 인코딩으로 변환합니다."
   ]
  },
  {
   "cell_type": "code",
   "execution_count": 3,
   "metadata": {
    "cellView": "both",
    "colab": {
     "autoexec": {
      "startup": false,
      "wait_interval": 0
     },
     "output_extras": [
      {
       "item_id": 1
      }
     ]
    },
    "colab_type": "code",
    "collapsed": false,
    "executionInfo": {
     "elapsed": 19723,
     "status": "ok",
     "timestamp": 1449847956364,
     "user": {
      "color": "",
      "displayName": "",
      "isAnonymous": false,
      "isMe": true,
      "permissionId": "",
      "photoUrl": "",
      "sessionId": "0",
      "userId": ""
     },
     "user_tz": 480
    },
    "id": "IRSyYiIIGIzS",
    "outputId": "2ba0fc75-1487-4ace-a562-cf81cae82793"
   },
   "outputs": [
    {
     "name": "stdout",
     "output_type": "stream",
     "text": [
      "학습용 데이터 (200000, 784) (200000, 10)\n",
      "검증용 데이터 (10000, 784) (10000, 10)\n",
      "테스트용 데이터 (10000, 784) (10000, 10)\n"
     ]
    }
   ],
   "source": [
    "image_size = 28\n",
    "num_labels = 10\n",
    "\n",
    "def reformat(dataset, labels):\n",
    "  dataset = dataset.reshape((-1, image_size * image_size)).astype(np.float32)\n",
    "  # 0은 [1.0, 0.0, 0.0 ...]으로, 1은 [0.0, 1.0, 0.0 ...]으로 변환합니다.\n",
    "  labels = (np.arange(num_labels) == labels[:,None]).astype(np.float32)\n",
    "  return dataset, labels\n",
    "train_dataset, train_labels = reformat(train_dataset, train_labels)\n",
    "valid_dataset, valid_labels = reformat(valid_dataset, valid_labels)\n",
    "test_dataset, test_labels = reformat(test_dataset, test_labels)\n",
    "print('학습용 데이터', train_dataset.shape, train_labels.shape)\n",
    "print('검증용 데이터', valid_dataset.shape, valid_labels.shape)\n",
    "print('테스트용 데이터', test_dataset.shape, test_labels.shape)"
   ]
  },
  {
   "cell_type": "markdown",
   "metadata": {
    "colab_type": "text",
    "id": "nCLVqyQ5vPPH"
   },
   "source": [
    "먼저 간단한 경사 하강법을 사용해서 다항 로지스틱 회귀를 학습시켜 보도록 하겠습니다.\n",
    "\n",
    "텐서플로우의 방식은 다음과 같습니다.\n",
    "* 먼저 여러분이 실행하고 싶은 연산을 기술해야 합니다. 입력은 어떻게 생겼는지, 변수는 어떻게 생겼는지, 어떤 작업을 해야 하는지 등에 대해서입니다. 이 내용이 계산 그래프 위에 노드로 생성됩니다. 이 모든 설명은 아래 블록에 포함되어 있습니다.\n",
    "\n",
    "      with graph.as_default():\n",
    "          ...\n",
    "\n",
    "* 그 후 이 그래프에 있는 작업을 `session.run()`을 사용해서 원하는 만큼 계속 반복하는데, 세션에 그래프에서 가져온 출력값을 제공해야 합니다. 이 런타임 작업은 아래 블록에 모두 포함되어 있습니다.\n",
    "\n",
    "      with tf.Session(graph=graph) as session:\n",
    "          ...\n",
    "\n",
    "텐서플로우에서 모든 데이터를 불러온 뒤 우리의 학습을 위한 계산 그래프를 만들어 봅시다."
   ]
  },
  {
   "cell_type": "code",
   "execution_count": 6,
   "metadata": {
    "cellView": "both",
    "colab": {
     "autoexec": {
      "startup": false,
      "wait_interval": 0
     }
    },
    "colab_type": "code",
    "collapsed": true,
    "id": "Nfv39qvtvOl_"
   },
   "outputs": [],
   "source": [
    "# 경사 하강법 학습에서는 이정도의 데이터 양도 많습니다.\n",
    "# 빨리 진행되도록 학습 데이터를 조금만 뽑습니다.\n",
    "# (역자 주: 만약 다음 블록에서 Dst tensor is not initialized 에러가 나면\n",
    "# train_subset 크기를 줄이세요.)\n",
    "train_subset = 10000\n",
    "\n",
    "graph = tf.Graph()\n",
    "with graph.as_default():\n",
    "\n",
    "  # 입력 데이터\n",
    "  # 학습용, 검증용, 테스트용 데이터를 불러온 뒤 그래프에 연동된 변수에 할당합니다.  \n",
    "  tf_train_dataset = tf.constant(train_dataset[:train_subset, :])\n",
    "  tf_train_labels = tf.constant(train_labels[:train_subset])\n",
    "  tf_valid_dataset = tf.constant(valid_dataset)\n",
    "  tf_test_dataset = tf.constant(test_dataset)\n",
    "  \n",
    "  # 변수\n",
    "  # 우리가 학습시킬 대상에 대한 매개변수입니다.\n",
    "  # 가중치 행렬은 (절삭된) 정규분포를 따르는 무작위 값으로 초기화됩니다.\n",
    "  # 편향값은 0으로 초기화됩니다.\n",
    "  weights = tf.Variable(\n",
    "    tf.truncated_normal([image_size * image_size, num_labels]))\n",
    "  biases = tf.Variable(tf.zeros([num_labels]))\n",
    "  \n",
    "  # 학습 연산\n",
    "  # 입력값에 가중치 행렬을 곱하고 편향값을 더합니다.\n",
    "  # 소프트맥스와 크로스 엔트로피를 계산합니다.\n",
    "  # (텐서플로우에서는 한 번의 작업으로 가능합니다. 흔하게 사용되기 때문이고, 최적화될 수 있습니다.)\n",
    "  # 크로스 엔트로피의 평균값을 모든 학습용 예제에 대해 구합니다. 이것이 우리의 손실값이 됩니다.\n",
    "  logits = tf.matmul(tf_train_dataset, weights) + biases\n",
    "  loss = tf.reduce_mean(\n",
    "    tf.nn.softmax_cross_entropy_with_logits(labels=tf_train_labels, logits=logits))\n",
    "  \n",
    "  # 최적화\n",
    "  # 이 손실값의 최소값을 경사 하강법을 사용해서 찾아냅니다.\n",
    "  optimizer = tf.train.GradientDescentOptimizer(0.5).minimize(loss)\n",
    "  \n",
    "  # 학습용, 검증용, 테스트용 데이터에 대한 예측값\n",
    "  # 이 단계는 학습의 일부가 아닙니다. 학습에 대한 정확도를 알기 위한 단계입니다.\n",
    "  train_prediction = tf.nn.softmax(logits)\n",
    "  valid_prediction = tf.nn.softmax(\n",
    "    tf.matmul(tf_valid_dataset, weights) + biases)\n",
    "  test_prediction = tf.nn.softmax(tf.matmul(tf_test_dataset, weights) + biases)"
   ]
  },
  {
   "cell_type": "markdown",
   "metadata": {
    "colab_type": "text",
    "id": "KQcL4uqISHjP"
   },
   "source": [
    "이 계산을 반복해서 실행해봅시다."
   ]
  },
  {
   "cell_type": "code",
   "execution_count": 7,
   "metadata": {
    "cellView": "both",
    "colab": {
     "autoexec": {
      "startup": false,
      "wait_interval": 0
     },
     "output_extras": [
      {
       "item_id": 9
      }
     ]
    },
    "colab_type": "code",
    "collapsed": false,
    "executionInfo": {
     "elapsed": 57454,
     "status": "ok",
     "timestamp": 1449847994134,
     "user": {
      "color": "",
      "displayName": "",
      "isAnonymous": false,
      "isMe": true,
      "permissionId": "",
      "photoUrl": "",
      "sessionId": "0",
      "userId": ""
     },
     "user_tz": 480
    },
    "id": "z2cjdenH869W",
    "outputId": "4c037ba1-b526-4d8e-e632-91e2a0333267"
   },
   "outputs": [
    {
     "name": "stdout",
     "output_type": "stream",
     "text": [
      "초기화 되었습니다.\n",
      "0 단계에서의 손실: 17.918882\n",
      "학습 정확도: 12.9%\n",
      "검증 정확도: 15.3%\n",
      "100 단계에서의 손실: 2.294772\n",
      "학습 정확도: 71.8%\n",
      "검증 정확도: 71.4%\n",
      "200 단계에서의 손실: 1.857128\n",
      "학습 정확도: 75.0%\n",
      "검증 정확도: 73.5%\n",
      "300 단계에서의 손실: 1.619935\n",
      "학습 정확도: 76.0%\n",
      "검증 정확도: 74.4%\n",
      "400 단계에서의 손실: 1.458887\n",
      "학습 정확도: 76.7%\n",
      "검증 정확도: 74.8%\n",
      "500 단계에서의 손실: 1.338105\n",
      "학습 정확도: 77.5%\n",
      "검증 정확도: 75.2%\n",
      "600 단계에서의 손실: 1.242423\n",
      "학습 정확도: 78.0%\n",
      "검증 정확도: 75.2%\n",
      "700 단계에서의 손실: 1.163966\n",
      "학습 정확도: 78.6%\n",
      "검증 정확도: 75.4%\n",
      "800 단계에서의 손실: 1.098125\n",
      "학습 정확도: 79.2%\n",
      "검증 정확도: 75.6%\n",
      "테스트 정확도: 82.6%\n"
     ]
    }
   ],
   "source": [
    "num_steps = 801\n",
    "\n",
    "def accuracy(predictions, labels):\n",
    "  return (100.0 * np.sum(np.argmax(predictions, 1) == np.argmax(labels, 1))\n",
    "          / predictions.shape[0])\n",
    "\n",
    "with tf.Session(graph=graph) as session:\n",
    "  # 이 부분은 한 번만 수행되는 부분으로, 매개변수들이 우리가 그래프에서 정의한 대로 초기화되도록 합니다.\n",
    "  # 행렬에는 무작위 가중치, 편향값은 0입니다.\n",
    "  tf.global_variables_initializer().run()\n",
    "  print('초기화 되었습니다.')\n",
    "  for step in range(num_steps):\n",
    "    # 계산을 합니다. 최적화를 수행하기 위해 .run()을 사용합니다.\n",
    "    # 손실값과 학습 데이터에 대한 예측값을 numpy 배열로 받습니다.\n",
    "    _, l, predictions = session.run([optimizer, loss, train_prediction])\n",
    "    if (step % 100 == 0):\n",
    "      print('%d 단계에서의 손실: %f' % (step, l))\n",
    "      print('학습 정확도: %.1f%%' % accuracy(\n",
    "        predictions, train_labels[:train_subset, :]))\n",
    "      # valid_prediction에 대해 .eval()을 실행하는 것은 run()을 부르는 것과 본질적으로는 같습니다.\n",
    "      # 하지만 딱 하나의 numpy 배열만 얻게 됩니다.\n",
    "      # 그래프가 의존성을 갖는 모든 값이 다시 다 계산된다는 것에 주의하세요.\n",
    "      print('검증 정확도: %.1f%%' % accuracy(\n",
    "        valid_prediction.eval(), valid_labels))\n",
    "  print('테스트 정확도: %.1f%%' % accuracy(test_prediction.eval(), test_labels))"
   ]
  },
  {
   "cell_type": "markdown",
   "metadata": {
    "colab_type": "text",
    "id": "x68f-hxRGm3H"
   },
   "source": [
    "Let's now switch to stochastic gradient descent training instead, which is much faster.\n",
    "\n",
    "The graph will be similar, except that instead of holding all the training data into a constant node, we create a `Placeholder` node which will be fed actual data at every call of `session.run()`."
   ]
  },
  {
   "cell_type": "code",
   "execution_count": 0,
   "metadata": {
    "cellView": "both",
    "colab": {
     "autoexec": {
      "startup": false,
      "wait_interval": 0
     }
    },
    "colab_type": "code",
    "collapsed": true,
    "id": "qhPMzWYRGrzM"
   },
   "outputs": [],
   "source": [
    "batch_size = 128\n",
    "\n",
    "graph = tf.Graph()\n",
    "with graph.as_default():\n",
    "\n",
    "  # Input data. For the training data, we use a placeholder that will be fed\n",
    "  # at run time with a training minibatch.\n",
    "  tf_train_dataset = tf.placeholder(tf.float32,\n",
    "                                    shape=(batch_size, image_size * image_size))\n",
    "  tf_train_labels = tf.placeholder(tf.float32, shape=(batch_size, num_labels))\n",
    "  tf_valid_dataset = tf.constant(valid_dataset)\n",
    "  tf_test_dataset = tf.constant(test_dataset)\n",
    "  \n",
    "  # Variables.\n",
    "  weights = tf.Variable(\n",
    "    tf.truncated_normal([image_size * image_size, num_labels]))\n",
    "  biases = tf.Variable(tf.zeros([num_labels]))\n",
    "  \n",
    "  # Training computation.\n",
    "  logits = tf.matmul(tf_train_dataset, weights) + biases\n",
    "  loss = tf.reduce_mean(\n",
    "    tf.nn.softmax_cross_entropy_with_logits(labels=tf_train_labels, logits=logits))\n",
    "  \n",
    "  # Optimizer.\n",
    "  optimizer = tf.train.GradientDescentOptimizer(0.5).minimize(loss)\n",
    "  \n",
    "  # Predictions for the training, validation, and test data.\n",
    "  train_prediction = tf.nn.softmax(logits)\n",
    "  valid_prediction = tf.nn.softmax(\n",
    "    tf.matmul(tf_valid_dataset, weights) + biases)\n",
    "  test_prediction = tf.nn.softmax(tf.matmul(tf_test_dataset, weights) + biases)"
   ]
  },
  {
   "cell_type": "markdown",
   "metadata": {
    "colab_type": "text",
    "id": "XmVZESmtG4JH"
   },
   "source": [
    "Let's run it:"
   ]
  },
  {
   "cell_type": "code",
   "execution_count": 0,
   "metadata": {
    "cellView": "both",
    "colab": {
     "autoexec": {
      "startup": false,
      "wait_interval": 0
     },
     "output_extras": [
      {
       "item_id": 6
      }
     ]
    },
    "colab_type": "code",
    "collapsed": false,
    "executionInfo": {
     "elapsed": 66292,
     "status": "ok",
     "timestamp": 1449848003013,
     "user": {
      "color": "",
      "displayName": "",
      "isAnonymous": false,
      "isMe": true,
      "permissionId": "",
      "photoUrl": "",
      "sessionId": "0",
      "userId": ""
     },
     "user_tz": 480
    },
    "id": "FoF91pknG_YW",
    "outputId": "d255c80e-954d-4183-ca1c-c7333ce91d0a"
   },
   "outputs": [
    {
     "name": "stdout",
     "output_type": "stream",
     "text": [
      "Initialized\n",
      "Minibatch loss at step 0 : 16.8091\n",
      "Minibatch accuracy: 12.5%\n",
      "Validation accuracy: 14.0%\n",
      "Minibatch loss at step 500 : 1.75256\n",
      "Minibatch accuracy: 77.3%\n",
      "Validation accuracy: 75.0%\n",
      "Minibatch loss at step 1000 : 1.32283\n",
      "Minibatch accuracy: 77.3%\n",
      "Validation accuracy: 76.6%\n",
      "Minibatch loss at step 1500 : 0.944533\n",
      "Minibatch accuracy: 83.6%\n",
      "Validation accuracy: 76.5%\n",
      "Minibatch loss at step 2000 : 1.03795\n",
      "Minibatch accuracy: 78.9%\n",
      "Validation accuracy: 77.8%\n",
      "Minibatch loss at step 2500 : 1.10219\n",
      "Minibatch accuracy: 80.5%\n",
      "Validation accuracy: 78.0%\n",
      "Minibatch loss at step 3000 : 0.758874\n",
      "Minibatch accuracy: 82.8%\n",
      "Validation accuracy: 78.8%\n",
      "Test accuracy: 86.1%\n"
     ]
    }
   ],
   "source": [
    "num_steps = 3001\n",
    "\n",
    "with tf.Session(graph=graph) as session:\n",
    "  tf.global_variables_initializer().run()\n",
    "  print(\"Initialized\")\n",
    "  for step in range(num_steps):\n",
    "    # Pick an offset within the training data, which has been randomized.\n",
    "    # Note: we could use better randomization across epochs.\n",
    "    offset = (step * batch_size) % (train_labels.shape[0] - batch_size)\n",
    "    # Generate a minibatch.\n",
    "    batch_data = train_dataset[offset:(offset + batch_size), :]\n",
    "    batch_labels = train_labels[offset:(offset + batch_size), :]\n",
    "    # Prepare a dictionary telling the session where to feed the minibatch.\n",
    "    # The key of the dictionary is the placeholder node of the graph to be fed,\n",
    "    # and the value is the numpy array to feed to it.\n",
    "    feed_dict = {tf_train_dataset : batch_data, tf_train_labels : batch_labels}\n",
    "    _, l, predictions = session.run(\n",
    "      [optimizer, loss, train_prediction], feed_dict=feed_dict)\n",
    "    if (step % 500 == 0):\n",
    "      print(\"Minibatch loss at step %d: %f\" % (step, l))\n",
    "      print(\"Minibatch accuracy: %.1f%%\" % accuracy(predictions, batch_labels))\n",
    "      print(\"Validation accuracy: %.1f%%\" % accuracy(\n",
    "        valid_prediction.eval(), valid_labels))\n",
    "  print(\"Test accuracy: %.1f%%\" % accuracy(test_prediction.eval(), test_labels))"
   ]
  },
  {
   "cell_type": "markdown",
   "metadata": {
    "colab_type": "text",
    "id": "7omWxtvLLxik"
   },
   "source": [
    "---\n",
    "Problem\n",
    "-------\n",
    "\n",
    "Turn the logistic regression example with SGD into a 1-hidden layer neural network with rectified linear units [nn.relu()](https://www.tensorflow.org/versions/r0.7/api_docs/python/nn.html#relu) and 1024 hidden nodes. This model should improve your validation / test accuracy.\n",
    "\n",
    "---"
   ]
  }
 ],
 "metadata": {
  "colab": {
   "default_view": {},
   "name": "2_fullyconnected.ipynb",
   "provenance": [],
   "version": "0.3.2",
   "views": {}
  },
  "kernelspec": {
   "display_name": "Python 3",
   "language": "python",
   "name": "python3"
  },
  "language_info": {
   "codemirror_mode": {
    "name": "ipython",
    "version": 3
   },
   "file_extension": ".py",
   "mimetype": "text/x-python",
   "name": "python",
   "nbconvert_exporter": "python",
   "pygments_lexer": "ipython3",
   "version": "3.6.0"
  }
 },
 "nbformat": 4,
 "nbformat_minor": 0
}
