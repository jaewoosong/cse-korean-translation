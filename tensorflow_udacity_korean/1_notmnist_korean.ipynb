{
 "cells": [
  {
   "cell_type": "markdown",
   "metadata": {
    "colab_type": "text",
    "id": "5hIbr52I7Z7U"
   },
   "source": [
    "딥 러닝 (심층 학습)\n",
    "=============\n",
    "\n",
    "과제 1\n",
    "------------\n",
    "\n",
    "이 과제의 목적은 간단한 데이터를 다루는 법을 배우고, 앞으로 우리가 자주 사용할 데이터와 친숙해지는 것입니다.\n",
    "\n",
    "이 노트북은 [notMNIST](http://yaroslavvb.blogspot.com/2011/09/notmnist-dataset.html) 데이터셋과 파이썬을 사용합니다. 이 데이터셋은 고전적인 [MNIST](http://yann.lecun.com/exdb/mnist/) 데이터셋과 비슷하게 구성되었지만 실제 데이터에 더욱 가깝습니다. 다루기 어렵고, 데이터가 MNIST보다 덜 깔끔합니다."
   ]
  },
  {
   "cell_type": "code",
   "execution_count": 1,
   "metadata": {
    "cellView": "both",
    "colab": {
     "autoexec": {
      "startup": false,
      "wait_interval": 0
     }
    },
    "colab_type": "code",
    "collapsed": false,
    "id": "apJbCsBHl-2A"
   },
   "outputs": [
    {
     "name": "stdout",
     "output_type": "stream",
     "text": [
      "역자 주: 이 문장이 보이면 잘 된 것입니다.\n"
     ]
    }
   ],
   "source": [
    "# 앞으로 우리가 사용할 모듈들입니다.\n",
    "# 더 진행하기 전에 문제없이 import할 수 있는지 반드시 확인하세요.\n",
    "from __future__ import print_function\n",
    "import matplotlib.pyplot as plt\n",
    "import numpy as np\n",
    "import os\n",
    "import sys\n",
    "import tarfile\n",
    "from IPython.display import display, Image\n",
    "from scipy import ndimage\n",
    "from sklearn.linear_model import LogisticRegression\n",
    "from six.moves.urllib.request import urlretrieve\n",
    "from six.moves import cPickle as pickle\n",
    "\n",
    "# matplotlib 뒷단을 IPython에서 인라인으로 그림을 그릴 수 있게 설정합니다.\n",
    "%matplotlib inline\n",
    "print('역자 주: 이 문장이 보이면 잘 된 것입니다.')"
   ]
  },
  {
   "cell_type": "markdown",
   "metadata": {
    "colab_type": "text",
    "id": "jNWGtZaXn-5j"
   },
   "source": [
    "먼저 개인 컴퓨터로 데이터셋을 다운받습니다. 다양한 글꼴로 구성된 글자들이 28x28 크기의 이미지로 저장되어 있습니다. 라벨은 A부터 J까지 총 10개 밖에 없습니다. 훈련 셋에는 약 50만 글자가, 테스트 셋에는 19000개의 라벨이 달린 글자가 들어 있습니다. 데이터셋 크기가 크지 않기 때문에, 어느 컴퓨터에서나 빠르게 모델을 훈련할 수 있을 것입니다."
   ]
  },
  {
   "cell_type": "code",
   "execution_count": 2,
   "metadata": {
    "cellView": "both",
    "colab": {
     "autoexec": {
      "startup": false,
      "wait_interval": 0
     },
     "output_extras": [
      {
       "item_id": 1
      }
     ]
    },
    "colab_type": "code",
    "collapsed": false,
    "executionInfo": {
     "elapsed": 186058,
     "status": "ok",
     "timestamp": 1444485672507,
     "user": {
      "color": "#1FA15D",
      "displayName": "Vincent Vanhoucke",
      "isAnonymous": false,
      "isMe": true,
      "permissionId": "05076109866853157986",
      "photoUrl": "//lh6.googleusercontent.com/-cCJa7dTDcgQ/AAAAAAAAAAI/AAAAAAAACgw/r2EZ_8oYer4/s50-c-k-no/photo.jpg",
      "sessionId": "2a0a5e044bb03b66",
      "userId": "102167687554210253930"
     },
     "user_tz": 420
    },
    "id": "EYRJ4ICW6-da",
    "outputId": "0d0f85df-155f-4a89-8e7e-ee32df36ec8d"
   },
   "outputs": [
    {
     "name": "stdout",
     "output_type": "stream",
     "text": [
      "파일 찾기 및 검사 완료:  ./notMNIST_large.tar.gz\n",
      "파일 찾기 및 검사 완료:  ./notMNIST_small.tar.gz\n"
     ]
    }
   ],
   "source": [
    "url = 'http://commondatastorage.googleapis.com/books1000/'\n",
    "last_percent_reported = None\n",
    "data_root = '.' # 다른 곳에 저장하고 싶으면 이 값을 바꿔주세요.\n",
    "\n",
    "def download_progress_hook(count, blockSize, totalSize):\n",
    "  \"\"\"\n",
    "  다운로드 진행 상황을 보고하기 위한 훅입니다. 이것은 주로 인터넷이 느린 사용자들을 위한 함수입니다.\n",
    "  진행률이 5% 바뀔 때마다 업데이트됩니다.\n",
    "  \"\"\"\n",
    "  global last_percent_reported\n",
    "  percent = int(count * blockSize * 100 / totalSize)\n",
    "\n",
    "  if last_percent_reported != percent:\n",
    "    if percent % 5 == 0:\n",
    "      sys.stdout.write(\"%s%%\" % percent)\n",
    "      sys.stdout.flush()\n",
    "    else:\n",
    "      sys.stdout.write(\".\")\n",
    "      sys.stdout.flush()\n",
    "      \n",
    "    last_percent_reported = percent\n",
    "        \n",
    "def maybe_download(filename, expected_bytes, force=False):\n",
    "  \"\"\"파일이 없으면 다운로드하고, 파일 크기가 올바른지 확인합니다.\"\"\"\n",
    "  dest_filename = os.path.join(data_root, filename)\n",
    "  if force or not os.path.exists(dest_filename):\n",
    "    print('다운로드 시도: ', filename) \n",
    "    filename, _ = urlretrieve(url + filename, dest_filename, reporthook=download_progress_hook)\n",
    "    print('\\n다운로드 완료!')\n",
    "  statinfo = os.stat(dest_filename)\n",
    "  if statinfo.st_size == expected_bytes:\n",
    "    print('파일 찾기 및 검사 완료: ', dest_filename)\n",
    "  else:\n",
    "    raise Exception(\n",
    "      '파일 검사 실패: ' + dest_filename + '. 웹 브라우저로 접근 가능한 파일인가요?')\n",
    "  return dest_filename\n",
    "\n",
    "train_filename = maybe_download('notMNIST_large.tar.gz', 247336696)\n",
    "test_filename = maybe_download('notMNIST_small.tar.gz', 8458043)"
   ]
  },
  {
   "cell_type": "markdown",
   "metadata": {
    "colab_type": "text",
    "id": "cC3p0oEyF8QT"
   },
   "source": [
    ".tar.gz 압축 파일에서 데이터셋을 추출합니다.\n",
    "이 작업이 끝나면 A부터 J까지의 디렉토리가 생성될 것입니다."
   ]
  },
  {
   "cell_type": "code",
   "execution_count": 3,
   "metadata": {
    "cellView": "both",
    "colab": {
     "autoexec": {
      "startup": false,
      "wait_interval": 0
     },
     "output_extras": [
      {
       "item_id": 1
      }
     ]
    },
    "colab_type": "code",
    "collapsed": false,
    "executionInfo": {
     "elapsed": 186055,
     "status": "ok",
     "timestamp": 1444485672525,
     "user": {
      "color": "#1FA15D",
      "displayName": "Vincent Vanhoucke",
      "isAnonymous": false,
      "isMe": true,
      "permissionId": "05076109866853157986",
      "photoUrl": "//lh6.googleusercontent.com/-cCJa7dTDcgQ/AAAAAAAAAAI/AAAAAAAACgw/r2EZ_8oYer4/s50-c-k-no/photo.jpg",
      "sessionId": "2a0a5e044bb03b66",
      "userId": "102167687554210253930"
     },
     "user_tz": 420
    },
    "id": "H8CBE-WZ8nmj",
    "outputId": "ef6c790c-2513-4b09-962e-27c79390c762"
   },
   "outputs": [
    {
     "name": "stdout",
     "output_type": "stream",
     "text": [
      "./notMNIST_large 에서 압축 해제. 시간이 좀 걸릴 수 있습니다. 기다려 주세요.\n",
      "(역자 주: 진짜로 꽤 오래 걸립니다.)\n",
      "['./notMNIST_large/A', './notMNIST_large/B', './notMNIST_large/C', './notMNIST_large/D', './notMNIST_large/E', './notMNIST_large/F', './notMNIST_large/G', './notMNIST_large/H', './notMNIST_large/I', './notMNIST_large/J']\n",
      "./notMNIST_small 에서 압축 해제. 시간이 좀 걸릴 수 있습니다. 기다려 주세요.\n",
      "(역자 주: 진짜로 꽤 오래 걸립니다.)\n",
      "['./notMNIST_small/A', './notMNIST_small/B', './notMNIST_small/C', './notMNIST_small/D', './notMNIST_small/E', './notMNIST_small/F', './notMNIST_small/G', './notMNIST_small/H', './notMNIST_small/I', './notMNIST_small/J']\n"
     ]
    }
   ],
   "source": [
    "num_classes = 10\n",
    "np.random.seed(133)\n",
    "\n",
    "def maybe_extract(filename, force=False):\n",
    "  root = os.path.splitext(os.path.splitext(filename)[0])[0]  # .tar.gz 파일 삭제\n",
    "  if os.path.isdir(root) and not force:\n",
    "    # force=True 로 설정을 덮어쓸 수 있습니다.\n",
    "    print('%s 이미 존재 - %s 파일의 압축 해제를 건너뜁니다.' % (root, filename))\n",
    "  else:\n",
    "    print('%s 에서 압축 해제. 시간이 좀 걸릴 수 있습니다. 기다려 주세요.' % root)\n",
    "    print('(역자 주: 진짜로 꽤 오래 걸립니다.)')\n",
    "    tar = tarfile.open(filename)\n",
    "    sys.stdout.flush()\n",
    "    tar.extractall()\n",
    "    tar.close()\n",
    "  data_folders = [\n",
    "    os.path.join(root, d) for d in sorted(os.listdir(root))\n",
    "    if os.path.isdir(os.path.join(root, d))]\n",
    "  if len(data_folders) != num_classes:\n",
    "    raise Exception(\n",
    "      '클래스 당 하나씩 %d 개의 디렉토리가 있어야 하는데 %d 개 밖에 없습니다.' % (\n",
    "        num_classes, len(data_folders)))\n",
    "  print(data_folders)\n",
    "  return data_folders\n",
    "  \n",
    "train_folders = maybe_extract(train_filename)\n",
    "test_folders = maybe_extract(test_filename)"
   ]
  },
  {
   "cell_type": "markdown",
   "metadata": {
    "colab_type": "text",
    "id": "4riXK3IoHgx6"
   },
   "source": [
    "---\n",
    "문제 1\n",
    "------\n",
    "\n",
    "데이터가 정상적인지 살짝 살펴보겠습니다. 각각의 그림 파일에는 A부터 J까지의 글자가 서로 다른 글꼴로 쓰여 있어야 합니다. 방금 다운로드받은 그림 파일의 샘플을 표시해보세요. (도움말: IPython.display 패키지를 사용해보세요.)\n",
    "\n",
    "---"
   ]
  },
  {
   "cell_type": "markdown",
   "metadata": {},
   "source": [
    "역자 개인 풀이 1\n",
    "---------------\n",
    "\n",
    "저는 다음과 같은 방식으로 글자 하나를 출력해 보았습니다."
   ]
  },
  {
   "cell_type": "code",
   "execution_count": 4,
   "metadata": {
    "collapsed": false
   },
   "outputs": [
    {
     "data": {
      "image/png": "[encoded data removed]",
      "text/plain": [
       "<IPython.core.display.Image object>"
      ]
     },
     "metadata": {},
     "output_type": "display_data"
    }
   ],
   "source": [
    "# 역자 주: 저는 이렇게 글자 하나를 출력해 보았습니다.\n",
    "display(Image(filename=os.path.join(data_root, \"notMNIST_large\", \"A\", \"a2F6b28udHRm.png\")))"
   ]
  },
  {
   "cell_type": "markdown",
   "metadata": {
    "colab_type": "text",
    "id": "PBdkjESPK8tw"
   },
   "source": [
    "---\n",
    "\n",
    "이제 데이터를 활용하기 편한 형태로 바꿔보도록 하겠습니다. 여러분의 컴퓨터 사양에 따라 모든 데이터를 메모리에 올릴 수 없을 수도 있기 때문에, 각각의 항목을 별도의 데이터셋으로 만들어서 디스크에 저장하고 따로따로 다루도록 하겠습니다. 추후에 우리가 관리할 수 있는 크기의 하나의 데이터셋으로 합치게 될 것입니다.\n",
    "\n",
    "학습을 용이하게 하기 위해서 전체 데이터셋을 부동 소수점 형식의 3차원 배열(그림 파일 번호, x, y)로 만든 뒤 평균이 거의 0이 되고 표준편차가 0.5에 가깝게 되도록 변환하겠습니다.\n",
    "\n",
    "몇몇 그림 파일을 읽을 수 없을 수도 있는데, 그냥 건너뛰면 됩니다."
   ]
  },
  {
   "cell_type": "code",
   "execution_count": 5,
   "metadata": {
    "cellView": "both",
    "colab": {
     "autoexec": {
      "startup": false,
      "wait_interval": 0
     },
     "output_extras": [
      {
       "item_id": 30
      }
     ]
    },
    "colab_type": "code",
    "collapsed": false,
    "executionInfo": {
     "elapsed": 399874,
     "status": "ok",
     "timestamp": 1444485886378,
     "user": {
      "color": "#1FA15D",
      "displayName": "Vincent Vanhoucke",
      "isAnonymous": false,
      "isMe": true,
      "permissionId": "05076109866853157986",
      "photoUrl": "//lh6.googleusercontent.com/-cCJa7dTDcgQ/AAAAAAAAAAI/AAAAAAAACgw/r2EZ_8oYer4/s50-c-k-no/photo.jpg",
      "sessionId": "2a0a5e044bb03b66",
      "userId": "102167687554210253930"
     },
     "user_tz": 420
    },
    "id": "h7q0XhG3MJdf",
    "outputId": "92c391bb-86ff-431d-9ada-315568a19e59",
    "scrolled": true
   },
   "outputs": [
    {
     "name": "stdout",
     "output_type": "stream",
     "text": [
      "역자 주: 피클이라는 모듈을 사용해서 데이터를 관리하고 있습니다.\n",
      "개별 피클 데이터셋 작성: ./notMNIST_large/A.pickle\n",
      "./notMNIST_large/A\n",
      "읽을 수 없는 파일: ./notMNIST_large/A/SG90IE11c3RhcmQgQlROIFBvc3Rlci50dGY=.png : cannot identify image file './notMNIST_large/A/SG90IE11c3RhcmQgQlROIFBvc3Rlci50dGY=.png' - 괜찮습니다. 그냥 넘어갑시다.\n",
      "읽을 수 없는 파일: ./notMNIST_large/A/RnJlaWdodERpc3BCb29rSXRhbGljLnR0Zg==.png : cannot identify image file './notMNIST_large/A/RnJlaWdodERpc3BCb29rSXRhbGljLnR0Zg==.png' - 괜찮습니다. 그냥 넘어갑시다.\n",
      "읽을 수 없는 파일: ./notMNIST_large/A/Um9tYW5hIEJvbGQucGZi.png : cannot identify image file './notMNIST_large/A/Um9tYW5hIEJvbGQucGZi.png' - 괜찮습니다. 그냥 넘어갑시다.\n",
      "전체 데이터셋 텐서: (52909, 28, 28)\n",
      "평균: -0.12825\n",
      "표준편차: 0.443121\n",
      "개별 피클 데이터셋 작성: ./notMNIST_large/B.pickle\n",
      "./notMNIST_large/B\n",
      "읽을 수 없는 파일: ./notMNIST_large/B/TmlraXNFRi1TZW1pQm9sZEl0YWxpYy5vdGY=.png : cannot identify image file './notMNIST_large/B/TmlraXNFRi1TZW1pQm9sZEl0YWxpYy5vdGY=.png' - 괜찮습니다. 그냥 넘어갑시다.\n",
      "전체 데이터셋 텐서: (52911, 28, 28)\n",
      "평균: -0.00756304\n",
      "표준편차: 0.454491\n",
      "개별 피클 데이터셋 작성: ./notMNIST_large/C.pickle\n",
      "./notMNIST_large/C\n",
      "전체 데이터셋 텐서: (52912, 28, 28)\n",
      "평균: -0.142258\n",
      "표준편차: 0.439806\n",
      "개별 피클 데이터셋 작성: ./notMNIST_large/D.pickle\n",
      "./notMNIST_large/D\n",
      "읽을 수 없는 파일: ./notMNIST_large/D/VHJhbnNpdCBCb2xkLnR0Zg==.png : cannot identify image file './notMNIST_large/D/VHJhbnNpdCBCb2xkLnR0Zg==.png' - 괜찮습니다. 그냥 넘어갑시다.\n",
      "전체 데이터셋 텐서: (52911, 28, 28)\n",
      "평균: -0.0573678\n",
      "표준편차: 0.455647\n",
      "개별 피클 데이터셋 작성: ./notMNIST_large/E.pickle\n",
      "./notMNIST_large/E\n",
      "전체 데이터셋 텐서: (52912, 28, 28)\n",
      "평균: -0.0698989\n",
      "표준편차: 0.452942\n",
      "개별 피클 데이터셋 작성: ./notMNIST_large/F.pickle\n",
      "./notMNIST_large/F\n",
      "전체 데이터셋 텐서: (52912, 28, 28)\n",
      "평균: -0.125583\n",
      "표준편차: 0.447089\n",
      "개별 피클 데이터셋 작성: ./notMNIST_large/G.pickle\n",
      "./notMNIST_large/G\n",
      "전체 데이터셋 텐서: (52912, 28, 28)\n",
      "평균: -0.0945814\n",
      "표준편차: 0.44624\n",
      "개별 피클 데이터셋 작성: ./notMNIST_large/H.pickle\n",
      "./notMNIST_large/H\n",
      "전체 데이터셋 텐서: (52912, 28, 28)\n",
      "평균: -0.0685222\n",
      "표준편차: 0.454232\n",
      "개별 피클 데이터셋 작성: ./notMNIST_large/I.pickle\n",
      "./notMNIST_large/I\n",
      "전체 데이터셋 텐서: (52912, 28, 28)\n",
      "평균: 0.0307863\n",
      "표준편차: 0.468898\n",
      "개별 피클 데이터셋 작성: ./notMNIST_large/J.pickle\n",
      "./notMNIST_large/J\n",
      "전체 데이터셋 텐서: (52911, 28, 28)\n",
      "평균: -0.153358\n",
      "표준편차: 0.443657\n",
      "역자 주: 피클이라는 모듈을 사용해서 데이터를 관리하고 있습니다.\n",
      "개별 피클 데이터셋 작성: ./notMNIST_small/A.pickle\n",
      "./notMNIST_small/A\n",
      "읽을 수 없는 파일: ./notMNIST_small/A/RGVtb2NyYXRpY2FCb2xkT2xkc3R5bGUgQm9sZC50dGY=.png : cannot identify image file './notMNIST_small/A/RGVtb2NyYXRpY2FCb2xkT2xkc3R5bGUgQm9sZC50dGY=.png' - 괜찮습니다. 그냥 넘어갑시다.\n",
      "전체 데이터셋 텐서: (1872, 28, 28)\n",
      "평균: -0.132626\n",
      "표준편차: 0.445128\n",
      "개별 피클 데이터셋 작성: ./notMNIST_small/B.pickle\n",
      "./notMNIST_small/B\n",
      "전체 데이터셋 텐서: (1873, 28, 28)\n",
      "평균: 0.00535608\n",
      "표준편차: 0.457115\n",
      "개별 피클 데이터셋 작성: ./notMNIST_small/C.pickle\n",
      "./notMNIST_small/C\n",
      "전체 데이터셋 텐서: (1873, 28, 28)\n",
      "평균: -0.141521\n",
      "표준편차: 0.44269\n",
      "개별 피클 데이터셋 작성: ./notMNIST_small/D.pickle\n",
      "./notMNIST_small/D\n",
      "전체 데이터셋 텐서: (1873, 28, 28)\n",
      "평균: -0.0492167\n",
      "표준편차: 0.459759\n",
      "개별 피클 데이터셋 작성: ./notMNIST_small/E.pickle\n",
      "./notMNIST_small/E\n",
      "전체 데이터셋 텐서: (1873, 28, 28)\n",
      "평균: -0.0599148\n",
      "표준편차: 0.45735\n",
      "개별 피클 데이터셋 작성: ./notMNIST_small/F.pickle\n",
      "./notMNIST_small/F\n",
      "읽을 수 없는 파일: ./notMNIST_small/F/Q3Jvc3NvdmVyIEJvbGRPYmxpcXVlLnR0Zg==.png : cannot identify image file './notMNIST_small/F/Q3Jvc3NvdmVyIEJvbGRPYmxpcXVlLnR0Zg==.png' - 괜찮습니다. 그냥 넘어갑시다.\n",
      "전체 데이터셋 텐서: (1872, 28, 28)\n",
      "평균: -0.118185\n",
      "표준편차: 0.452279\n",
      "개별 피클 데이터셋 작성: ./notMNIST_small/G.pickle\n",
      "./notMNIST_small/G\n",
      "전체 데이터셋 텐서: (1872, 28, 28)\n",
      "평균: -0.0925503\n",
      "표준편차: 0.449006\n",
      "개별 피클 데이터셋 작성: ./notMNIST_small/H.pickle\n",
      "./notMNIST_small/H\n",
      "전체 데이터셋 텐서: (1872, 28, 28)\n",
      "평균: -0.0586892\n",
      "표준편차: 0.458759\n",
      "개별 피클 데이터셋 작성: ./notMNIST_small/I.pickle\n",
      "./notMNIST_small/I\n",
      "전체 데이터셋 텐서: (1872, 28, 28)\n",
      "평균: 0.0526451\n",
      "표준편차: 0.471894\n",
      "개별 피클 데이터셋 작성: ./notMNIST_small/J.pickle\n",
      "./notMNIST_small/J\n",
      "전체 데이터셋 텐서: (1872, 28, 28)\n",
      "평균: -0.151689\n",
      "표준편차: 0.448014\n"
     ]
    }
   ],
   "source": [
    "image_size = 28  # 그림 파일의 가로와 세로 픽셀 값입니다.\n",
    "pixel_depth = 255.0  # 픽셀 하나가 가질 수 있는 레벨의 개수입니다.\n",
    "\n",
    "def load_letter(folder, min_num_images):\n",
    "  \"\"\"하나의 글자 라벨에 대한 데이터를 불러옵니다.\"\"\"\n",
    "  image_files = os.listdir(folder)\n",
    "  dataset = np.ndarray(shape=(len(image_files), image_size, image_size),\n",
    "                         dtype=np.float32)\n",
    "  print(folder)\n",
    "  num_images = 0\n",
    "  for image in image_files:\n",
    "    image_file = os.path.join(folder, image)\n",
    "    try:\n",
    "      image_data = (ndimage.imread(image_file).astype(float) - \n",
    "                    pixel_depth / 2) / pixel_depth\n",
    "      if image_data.shape != (image_size, image_size):\n",
    "        raise Exception('예상치 못했던 모양의 그림 파일입니다: %s' % str(image_data.shape))\n",
    "      dataset[num_images, :, :] = image_data\n",
    "      num_images = num_images + 1\n",
    "    except IOError as e:\n",
    "      print('읽을 수 없는 파일:', image_file, ':', e, '- 괜찮습니다. 그냥 넘어갑시다.')\n",
    "    \n",
    "  dataset = dataset[0:num_images, :, :]\n",
    "  if num_images < min_num_images:\n",
    "    raise Exception('생각했던 것보다 그림 파일이 너무 적습니다: %d < %d' %\n",
    "                    (num_images, min_num_images))\n",
    "    \n",
    "  print('전체 데이터셋 텐서:', dataset.shape)\n",
    "  print('평균:', np.mean(dataset))\n",
    "  print('표준편차:', np.std(dataset))\n",
    "  return dataset\n",
    "        \n",
    "def maybe_pickle(data_folders, min_num_images_per_class, force=False):\n",
    "  print(\"역자 주: 피클이라는 모듈을 사용해서 데이터를 관리하고 있습니다.\")\n",
    "  dataset_names = []\n",
    "  for folder in data_folders:\n",
    "    set_filename = folder + '.pickle'\n",
    "    dataset_names.append(set_filename)\n",
    "    if os.path.exists(set_filename) and not force:\n",
    "      # force=True로 설정을 덮어쓸 수 있습니다.\n",
    "      print('%s 이 이미 존재합니다 - 개별 피클 데이터셋 작성을 중지합니다.' % set_filename)      \n",
    "    else:\n",
    "      print('개별 피클 데이터셋 작성: %s' % set_filename)\n",
    "      dataset = load_letter(folder, min_num_images_per_class)\n",
    "      try:\n",
    "        with open(set_filename, 'wb') as f:\n",
    "          pickle.dump(dataset, f, pickle.HIGHEST_PROTOCOL)\n",
    "      except Exception as e:\n",
    "        print('다음 파일명으로 저장할 수 없습니다:', set_filename, ':', e)\n",
    "  \n",
    "  return dataset_names\n",
    "\n",
    "train_datasets = maybe_pickle(train_folders, 45000)\n",
    "test_datasets = maybe_pickle(test_folders, 1800)"
   ]
  },
  {
   "cell_type": "markdown",
   "metadata": {
    "colab_type": "text",
    "id": "vUdbskYE2d87"
   },
   "source": [
    "---\n",
    "문제 2\n",
    "------\n",
    "\n",
    "데이터가 여전히 상태가 괜찮은지 확인해봅시다. ndarray에서 샘플 라벨과 샘플 그림 파일을 출력해보세요. (도움말: matplotlib.pyplot을 사용해보세요.)\n",
    "\n",
    "---"
   ]
  },
  {
   "cell_type": "markdown",
   "metadata": {},
   "source": [
    "역자 개인 풀이 2\n",
    "---------------\n",
    "저는 J에 해당하는 피클 파일을 열어서 그림 파일의 개수, 세로 픽셀 수, 가로 픽셀 수를 출력해본 뒤 35번째 그림을 화면에 나타내 보았습니다."
   ]
  },
  {
   "cell_type": "code",
   "execution_count": 6,
   "metadata": {
    "collapsed": false
   },
   "outputs": [
    {
     "name": "stdout",
     "output_type": "stream",
     "text": [
      "J에 대한 그림 파일 개수: 52911\n",
      "J에 대한 그림 파일의 세로 픽셀 수: 28\n",
      "J에 대한 그림 파일의 가로 픽셀 수: 28\n",
      "--------------------------------\n",
      "35번째 글꼴이 맘에 들어서 그것을 출력해 보았습니다.\n"
     ]
    },
    {
     "data": {
      "image/png": "[encoded data removed]",
      "text/plain": [
       "<matplotlib.figure.Figure at 0x7ff0b6289588>"
      ]
     },
     "metadata": {},
     "output_type": "display_data"
    }
   ],
   "source": [
    "# 역자 주: 저는 이렇게 풀었습니다.\n",
    "\n",
    "f = open(train_datasets[9], \"rb\") # J에 해당하는 파일 열기\n",
    "jDataset = pickle.load(f) # 피클 데이터셋 불러오기\n",
    "print(\"J에 대한 그림 파일 개수: \" + str(len(jDataset)))\n",
    "print(\"J에 대한 그림 파일의 세로 픽셀 수: \" + str(len(jDataset[0])))\n",
    "print(\"J에 대한 그림 파일의 가로 픽셀 수: \" + str(len(jDataset[0][0])))\n",
    "print(\"--------------------------------\")\n",
    "print(\"35번째 글꼴이 맘에 들어서 그것을 출력해 보았습니다.\")\n",
    "oneImage = jDataset[34] * pixel_depth + (pixel_depth/2) # 정규화 되돌리기\n",
    "imgplot = plt.imshow(oneImage)\n",
    "imgplot.set_cmap('gray') # 이걸 안 하면 자기 맘대로 색깔이 들어갑니다.\n",
    "f.close()"
   ]
  },
  {
   "cell_type": "markdown",
   "metadata": {
    "colab_type": "text",
    "id": "cYznx5jUwzoO"
   },
   "source": [
    "---\n",
    "문제 3\n",
    "------\n",
    "검사할 것이 하나 더 있습니다. 서로 다른 클래스 간의 데이터가 균형이 맞아 있었으면 합니다. 확인해 보세요.\n",
    "\n",
    "(역자 주: 클래스 별로 데이터 개수가 비슷해야 한다는 뜻 같습니다.)\n",
    "\n",
    "---"
   ]
  },
  {
   "cell_type": "markdown",
   "metadata": {},
   "source": [
    "역자 개인 풀이 3\n",
    "---------------\n",
    "\n",
    "저는 각 클래스에 있는 그림 파일 개수를 다 출력해 보았습니다. 이 정도면 균형이 잘 맞아 보입니다."
   ]
  },
  {
   "cell_type": "code",
   "execution_count": 7,
   "metadata": {
    "collapsed": false
   },
   "outputs": [
    {
     "name": "stdout",
     "output_type": "stream",
     "text": [
      "A 그림 개수: 52909\n",
      "B 그림 개수: 52911\n",
      "C 그림 개수: 52912\n",
      "D 그림 개수: 52911\n",
      "E 그림 개수: 52912\n",
      "F 그림 개수: 52912\n",
      "G 그림 개수: 52912\n",
      "H 그림 개수: 52912\n",
      "I 그림 개수: 52912\n",
      "J 그림 개수: 52911\n",
      "각 클래스 당 그림 파일 개수: 52909개 ~ 52912개\n",
      "이 정도면 균형이 잘 맞아 보입니다.\n"
     ]
    }
   ],
   "source": [
    "# 역자 주: 저는 각 클래스에 있는 그림 파일 개수를 다 출력해보는 방식으로 풀었습니다.\n",
    "\n",
    "alphabetList = ['A', 'B', 'C', 'D', 'E', 'F', 'G', 'H', 'I', 'J']\n",
    "numMin = 1000000 # 엄밀하게 하시려면 sys.maxsize를 쓰셔도 됩니다.\n",
    "numMax = 0\n",
    "\n",
    "for i in range(0, 10): # A부터 J까지 10개의 글자가 있기 때문에 range(0, 10)을 사용했습니다.\n",
    "  f = open(train_datasets[i], \"rb\")\n",
    "  onePickle = pickle.load(f)\n",
    "  numFiles = len(onePickle)\n",
    "  if numMax < numFiles:\n",
    "    numMax = numFiles\n",
    "  if numMin > numFiles:\n",
    "    numMin = numFiles\n",
    "  print(alphabetList[i] + \" 그림 개수: \" + str(numFiles))\n",
    "  f.close()\n",
    "    \n",
    "print(\"각 클래스 당 그림 파일 개수: \" + str(numMin) + \"개 ~ \" + str(numMax) + \"개\")\n",
    "print(\"이 정도면 균형이 잘 맞아 보입니다.\")"
   ]
  },
  {
   "cell_type": "markdown",
   "metadata": {
    "colab_type": "text",
    "id": "LA7M7K22ynCt"
   },
   "source": [
    "---\n",
    "훈련 데이터를 필요에 따라 합치고 다듬어 보세요. 여러분의 컴퓨터 설정에 따라 모든 데이터를 한 번에 메모리에 올릴 수 없을지도 모르는데, 그럴 경우 `train size` 값을 조절하시면 됩니다. 라벨들은 정수값 0부터 9에 걸쳐 서로 분리된 배열에 저장됩니다.\n",
    "\n",
    "또 하이퍼파라미터 조절을 위한 검증 데이터셋(밸리데이션 데이터셋)을 만들어 보세요."
   ]
  },
  {
   "cell_type": "code",
   "execution_count": 8,
   "metadata": {
    "cellView": "both",
    "colab": {
     "autoexec": {
      "startup": false,
      "wait_interval": 0
     },
     "output_extras": [
      {
       "item_id": 1
      }
     ]
    },
    "colab_type": "code",
    "collapsed": false,
    "executionInfo": {
     "elapsed": 411281,
     "status": "ok",
     "timestamp": 1444485897869,
     "user": {
      "color": "#1FA15D",
      "displayName": "Vincent Vanhoucke",
      "isAnonymous": false,
      "isMe": true,
      "permissionId": "05076109866853157986",
      "photoUrl": "//lh6.googleusercontent.com/-cCJa7dTDcgQ/AAAAAAAAAAI/AAAAAAAACgw/r2EZ_8oYer4/s50-c-k-no/photo.jpg",
      "sessionId": "2a0a5e044bb03b66",
      "userId": "102167687554210253930"
     },
     "user_tz": 420
    },
    "id": "s3mWgZLpyuzq",
    "outputId": "8af66da6-902d-4719-bedc-7c9fb7ae7948"
   },
   "outputs": [
    {
     "name": "stdout",
     "output_type": "stream",
     "text": [
      "훈련용  : (200000, 28, 28) (200000,)\n",
      "검증용  : (10000, 28, 28) (10000,)\n",
      "테스트용: (10000, 28, 28) (10000,)\n"
     ]
    }
   ],
   "source": [
    "def make_arrays(nb_rows, img_size):\n",
    "  if nb_rows:\n",
    "    dataset = np.ndarray((nb_rows, img_size, img_size), dtype=np.float32)\n",
    "    labels = np.ndarray(nb_rows, dtype=np.int32)\n",
    "  else:\n",
    "    dataset, labels = None, None\n",
    "  return dataset, labels\n",
    "\n",
    "def merge_datasets(pickle_files, train_size, valid_size=0):\n",
    "  num_classes = len(pickle_files)\n",
    "  valid_dataset, valid_labels = make_arrays(valid_size, image_size)\n",
    "  train_dataset, train_labels = make_arrays(train_size, image_size)\n",
    "  vsize_per_class = valid_size // num_classes\n",
    "  tsize_per_class = train_size // num_classes\n",
    "    \n",
    "  start_v, start_t = 0, 0\n",
    "  end_v, end_t = vsize_per_class, tsize_per_class\n",
    "  end_l = vsize_per_class+tsize_per_class\n",
    "  for label, pickle_file in enumerate(pickle_files):       \n",
    "    try:\n",
    "      with open(pickle_file, 'rb') as f:\n",
    "        letter_set = pickle.load(f)\n",
    "        # 글자들을 섞어서 무작위로 검증 데이터셋과 훈련 데이터셋을 만들겠습니다.\n",
    "        np.random.shuffle(letter_set)\n",
    "        if valid_dataset is not None:\n",
    "          valid_letter = letter_set[:vsize_per_class, :, :]\n",
    "          valid_dataset[start_v:end_v, :, :] = valid_letter\n",
    "          valid_labels[start_v:end_v] = label\n",
    "          start_v += vsize_per_class\n",
    "          end_v += vsize_per_class\n",
    "                    \n",
    "        train_letter = letter_set[vsize_per_class:end_l, :, :]\n",
    "        train_dataset[start_t:end_t, :, :] = train_letter\n",
    "        train_labels[start_t:end_t] = label\n",
    "        start_t += tsize_per_class\n",
    "        end_t += tsize_per_class\n",
    "    except Exception as e:\n",
    "      print('다음 피클 파일에서 데이터를 추출할 수 없습니다: ', pickle_file, '. 에러 메시지: ', e)\n",
    "      raise\n",
    "    \n",
    "  return valid_dataset, valid_labels, train_dataset, train_labels\n",
    "            \n",
    "            \n",
    "train_size = 200000\n",
    "valid_size = 10000\n",
    "test_size = 10000\n",
    "\n",
    "valid_dataset, valid_labels, train_dataset, train_labels = merge_datasets(\n",
    "  train_datasets, train_size, valid_size)\n",
    "_, _, test_dataset, test_labels = merge_datasets(test_datasets, test_size)\n",
    "\n",
    "print('훈련용  :', train_dataset.shape, train_labels.shape)\n",
    "print('검증용  :', valid_dataset.shape, valid_labels.shape)\n",
    "print('테스트용:', test_dataset.shape, test_labels.shape)"
   ]
  },
  {
   "cell_type": "markdown",
   "metadata": {
    "colab_type": "text",
    "id": "GPTCnjIcyuKN"
   },
   "source": [
    "다음으로는 데이터를 무작위로 섞겠습니다. 훈련용과 테스트용의 라벨 분포가 균일하도록 잘 섞는 것이 매우 중요합니다."
   ]
  },
  {
   "cell_type": "code",
   "execution_count": 9,
   "metadata": {
    "cellView": "both",
    "colab": {
     "autoexec": {
      "startup": false,
      "wait_interval": 0
     }
    },
    "colab_type": "code",
    "collapsed": true,
    "id": "6WZ2l2tN2zOL"
   },
   "outputs": [],
   "source": [
    "def randomize(dataset, labels):\n",
    "  permutation = np.random.permutation(labels.shape[0])\n",
    "  shuffled_dataset = dataset[permutation,:,:]\n",
    "  shuffled_labels = labels[permutation]\n",
    "  return shuffled_dataset, shuffled_labels\n",
    "train_dataset, train_labels = randomize(train_dataset, train_labels)\n",
    "test_dataset, test_labels = randomize(test_dataset, test_labels)\n",
    "valid_dataset, valid_labels = randomize(valid_dataset, valid_labels)"
   ]
  },
  {
   "cell_type": "markdown",
   "metadata": {
    "colab_type": "text",
    "id": "puDUTe6t6USl"
   },
   "source": [
    "---\n",
    "문제 4\n",
    "------\n",
    "섞은 후에도 데이터 상태가 여전히 좋다는 것을 스스로 확인해보세요!"
   ]
  },
  {
   "cell_type": "markdown",
   "metadata": {},
   "source": [
    "역자 개인 풀이 4\n",
    "----------------\n",
    "\n",
    "섞인 데이터의 라벨 분포를 출력해 보았습니다. 아주 고르게 잘 섞여 있습니다."
   ]
  },
  {
   "cell_type": "code",
   "execution_count": 10,
   "metadata": {
    "collapsed": false
   },
   "outputs": [
    {
     "name": "stdout",
     "output_type": "stream",
     "text": [
      "위에서부터 순서대로 훈련 데이터, 검증 데이터, 테스트 데이터입니다.\n",
      "------------------------------------------------------------------\n",
      "A 라벨 개수: 20000\n",
      "B 라벨 개수: 20000\n",
      "C 라벨 개수: 20000\n",
      "D 라벨 개수: 20000\n",
      "E 라벨 개수: 20000\n",
      "F 라벨 개수: 20000\n",
      "G 라벨 개수: 20000\n",
      "H 라벨 개수: 20000\n",
      "I 라벨 개수: 20000\n",
      "J 라벨 개수: 20000\n",
      "--------------------------\n",
      "A 라벨 개수: 1000\n",
      "B 라벨 개수: 1000\n",
      "C 라벨 개수: 1000\n",
      "D 라벨 개수: 1000\n",
      "E 라벨 개수: 1000\n",
      "F 라벨 개수: 1000\n",
      "G 라벨 개수: 1000\n",
      "H 라벨 개수: 1000\n",
      "I 라벨 개수: 1000\n",
      "J 라벨 개수: 1000\n",
      "--------------------------\n",
      "A 라벨 개수: 1000\n",
      "B 라벨 개수: 1000\n",
      "C 라벨 개수: 1000\n",
      "D 라벨 개수: 1000\n",
      "E 라벨 개수: 1000\n",
      "F 라벨 개수: 1000\n",
      "G 라벨 개수: 1000\n",
      "H 라벨 개수: 1000\n",
      "I 라벨 개수: 1000\n",
      "J 라벨 개수: 1000\n",
      "--------------------------\n",
      "아주 고르게 잘 섞인 것을 확인했습니다.\n"
     ]
    }
   ],
   "source": [
    "# 역자 주: 섞인 데이터의 라벨 분포를 출력해 보았습니다.\n",
    "print(\"위에서부터 순서대로 훈련 데이터, 검증 데이터, 테스트 데이터입니다.\")\n",
    "print(\"------------------------------------------------------------------\")\n",
    "for labels in [train_labels, valid_labels, test_labels]:  \n",
    "  for i in range(0, 10): # A부터 J까지 10개의 글자가 있기 때문에 range(0, 10)을 사용했습니다.\n",
    "    count_such_label = [1 if x == i else 0 for x in labels]\n",
    "    print(alphabetList[i] + \" 라벨 개수: \" + str(sum(count_such_label)))\n",
    "  print(\"--------------------------\")\n",
    "print(\"아주 고르게 잘 섞인 것을 확인했습니다.\")"
   ]
  },
  {
   "cell_type": "markdown",
   "metadata": {
    "colab_type": "text",
    "id": "tIQJaJuwg5Hw"
   },
   "source": [
    "---\n",
    "마지막으로, 재사용이 가능하도록 데이터를 저장해봅시다."
   ]
  },
  {
   "cell_type": "code",
   "execution_count": 11,
   "metadata": {
    "cellView": "both",
    "colab": {
     "autoexec": {
      "startup": false,
      "wait_interval": 0
     }
    },
    "colab_type": "code",
    "collapsed": true,
    "id": "QiR_rETzem6C"
   },
   "outputs": [],
   "source": [
    "pickle_file = os.path.join(data_root, 'notMNIST.pickle')\n",
    "\n",
    "try:\n",
    "  f = open(pickle_file, 'wb')\n",
    "  save = {\n",
    "    'train_dataset': train_dataset,\n",
    "    'train_labels': train_labels,\n",
    "    'valid_dataset': valid_dataset,\n",
    "    'valid_labels': valid_labels,\n",
    "    'test_dataset': test_dataset,\n",
    "    'test_labels': test_labels,\n",
    "    }\n",
    "  pickle.dump(save, f, pickle.HIGHEST_PROTOCOL)\n",
    "  f.close()\n",
    "except Exception as e:\n",
    "  print('다음 피클 파일에 저장할 수 없습니다: ', pickle_file, '. 에러 메시지:', e)\n",
    "  raise"
   ]
  },
  {
   "cell_type": "code",
   "execution_count": 12,
   "metadata": {
    "cellView": "both",
    "colab": {
     "autoexec": {
      "startup": false,
      "wait_interval": 0
     },
     "output_extras": [
      {
       "item_id": 1
      }
     ]
    },
    "colab_type": "code",
    "collapsed": false,
    "executionInfo": {
     "elapsed": 413065,
     "status": "ok",
     "timestamp": 1444485899688,
     "user": {
      "color": "#1FA15D",
      "displayName": "Vincent Vanhoucke",
      "isAnonymous": false,
      "isMe": true,
      "permissionId": "05076109866853157986",
      "photoUrl": "//lh6.googleusercontent.com/-cCJa7dTDcgQ/AAAAAAAAAAI/AAAAAAAACgw/r2EZ_8oYer4/s50-c-k-no/photo.jpg",
      "sessionId": "2a0a5e044bb03b66",
      "userId": "102167687554210253930"
     },
     "user_tz": 420
    },
    "id": "hQbLjrW_iT39",
    "outputId": "b440efc6-5ee1-4cbc-d02d-93db44ebd956"
   },
   "outputs": [
    {
     "name": "stdout",
     "output_type": "stream",
     "text": [
      "압축된 피클 파일 크기: 690800506\n"
     ]
    }
   ],
   "source": [
    "statinfo = os.stat(pickle_file)\n",
    "print('압축된 피클 파일 크기:', statinfo.st_size)"
   ]
  },
  {
   "cell_type": "markdown",
   "metadata": {
    "colab_type": "text",
    "id": "gE_cRAQB33lk"
   },
   "source": [
    "---\n",
    "문제 5\n",
    "------\n",
    "\n",
    "이 데이터셋은 애초에 중복된 샘플이 많을 수도 있게 설계되어서, 훈련 데이터셋에 있는 샘플이 검증 데이터셋과 테스트 데이터셋에 있을 수도 있습니다! 여러분이 여러분의 모델을 중복이 없는 환경에서 사용하기를 원한다면 이러한 훈련 셋과 테스트 셋 간의 중복은 예측 결과를 왜곡시킬 수 있습니다만, 여러분이 훈련에 사용한 데이터를 실제 상황에서 또 만나는 것을 예상하고 있다면 괜찮습니다. 훈련, 검증, 테스트 샘플이 얼마나 중복되어 있는지를 측정해 보세요.\n",
    "\n",
    "추가 문제:\n",
    "- 데이터셋 간에 거의 비슷한 정도는 어떠한가요? (거의 비슷한 그림들을 뜻합니다.)\n",
    "- 깔끔한 검증 셋과 테스트 셋을 만들어서 앞으로의 과제에서 여러분 모델의 정확성을 측정할 때 사용하세요.\n",
    "---"
   ]
  },
  {
   "cell_type": "markdown",
   "metadata": {},
   "source": [
    "역자 개인 풀이 5\n",
    "----------------\n",
    "\n",
    "이렇게 풀었습니다."
   ]
  },
  {
   "cell_type": "code",
   "execution_count": 27,
   "metadata": {
    "collapsed": false
   },
   "outputs": [
    {
     "name": "stdout",
     "output_type": "stream",
     "text": [
      "학습 데이터셋의 D 항목에 대해서만 연습삼아 해 보았습니다.\n"
     ]
    }
   ],
   "source": [
    "# 계산량이 많은 작업이라 셀을 분리했습니다.\n",
    "print(\"학습 데이터셋의 D 항목에 대해서만 연습삼아 해 보았습니다.\")\n",
    "\n",
    "trainD = list()\n",
    "for i in range(0, len(train_labels)):\n",
    "  if train_labels[i] == 3:\n",
    "    trainD.append(train_dataset[i])\n",
    "\n",
    "trainD = np.array(trainD) # numpy array로 변환"
   ]
  },
  {
   "cell_type": "code",
   "execution_count": 50,
   "metadata": {
    "collapsed": false
   },
   "outputs": [
    {
     "name": "stdout",
     "output_type": "stream",
     "text": [
      "학습 데이터 중 D항목의 개수: 20000\n",
      "예제 출력\n",
      "중복을 제외하고 남은 D항목 이미지 개수: 1\n"
     ]
    },
    {
     "data": {
      "image/png": "[encoded data removed]",
      "text/plain": [
       "<matplotlib.figure.Figure at 0x7ff0ab980be0>"
      ]
     },
     "metadata": {},
     "output_type": "display_data"
    }
   ],
   "source": [
    "print(\"학습 데이터 중 D항목의 개수: \" + str(len(trainD)))\n",
    "print(\"예제 출력\")\n",
    "imageD = trainD[i] * pixel_depth + (pixel_depth/2) # 정규화 되돌리기\n",
    "imgplotD = plt.imshow(imageD)\n",
    "imgplotD.set_cmap('gray') # 이걸 안 하면 자기 맘대로 색깔이 들어갑니다.\n",
    "\n",
    "countUnique = 1\n",
    "# 중복 검사 작업 필요\n",
    "\n",
    "print(\"중복을 제외하고 남은 D항목 이미지 개수: \" + str(countUnique))"
   ]
  },
  {
   "cell_type": "markdown",
   "metadata": {
    "colab_type": "text",
    "id": "L8oww1s4JMQx"
   },
   "source": [
    "---\n",
    "문제 6\n",
    "------\n",
    "\n",
    "즉석에서 사용 가능한 분류기가 이 데이터를 어떻게 분석할 수 있는지 봅시다. 무언가 배울 것이 있는지 확인해보는 것은 언제나 좋은 일이고, 사용 가능한 방법들로 이 문제를 풀기가 쉽지 않다는 것이 문제라는 것을 아는 것도 중요합니다.\n",
    "\n",
    "이 데이터에서 50, 100, 1000, 5000개의 샘플을 사용해서 간단한 모델을 학습시켜 보세요. (도움말: sklearn.linear_model에 있는 로지스틱 회귀 함수를 사용해보세요.)\n",
    "\n",
    "추가 문제: 전체 데이터에 대해서도 학습을 시켜 보세요!\n",
    "\n",
    "---"
   ]
  },
  {
   "cell_type": "markdown",
   "metadata": {},
   "source": [
    "역자 개인 풀이 6\n",
    "----------------\n",
    "\n",
    "이렇게 풀었습니다."
   ]
  },
  {
   "cell_type": "code",
   "execution_count": 52,
   "metadata": {
    "collapsed": false
   },
   "outputs": [],
   "source": [
    "train_dataset_100 = train_dataset[0:100]\n",
    "train_labels_100 = train_labels[0:100]\n",
    "lr = LogisticRegression(random_state=1234) # 로지스틱 회귀 분석기 생성\n",
    "#lr.fit(train_dataset_100, train_labels_100) # 학습 # 코드 짜는중입니다 -_-a"
   ]
  },
  {
   "cell_type": "code",
   "execution_count": null,
   "metadata": {
    "collapsed": true
   },
   "outputs": [],
   "source": []
  }
 ],
 "metadata": {
  "colab": {
   "default_view": {},
   "name": "1_notmnist.ipynb",
   "provenance": [],
   "version": "0.3.2",
   "views": {}
  },
  "kernelspec": {
   "display_name": "Python 3",
   "language": "python",
   "name": "python3"
  },
  "language_info": {
   "codemirror_mode": {
    "name": "ipython",
    "version": 3
   },
   "file_extension": ".py",
   "mimetype": "text/x-python",
   "name": "python",
   "nbconvert_exporter": "python",
   "pygments_lexer": "ipython3",
   "version": "3.6.0"
  }
 },
 "nbformat": 4,
 "nbformat_minor": 0
}
